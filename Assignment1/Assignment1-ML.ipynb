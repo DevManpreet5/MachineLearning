{
  "cells": [
    {
      "cell_type": "markdown",
      "id": "250051e6",
      "metadata": {
        "id": "250051e6"
      },
      "source": [
        "# Assignment 1 - NumPy"
      ]
    },
    {
      "cell_type": "markdown",
      "id": "6e3cb077",
      "metadata": {
        "id": "6e3cb077"
      },
      "source": [
        "**Name:** Manpreet Singh\n",
        "**Subgroup:** 3c25\n",
        "**Roll No:** 102303357"
      ]
    },
    {
      "cell_type": "markdown",
      "id": "28103157",
      "metadata": {
        "id": "28103157"
      },
      "source": [
        "## Q1: Questions on Basic NumPy Array"
      ]
    },
    {
      "cell_type": "markdown",
      "id": "c852212d",
      "metadata": {
        "id": "c852212d"
      },
      "source": [
        "### (a) Reverse the NumPy array:\n",
        "arr = np.array([1, 2, 3, 6, 4, 5])"
      ]
    },
    {
      "cell_type": "code",
      "execution_count": 1,
      "id": "0cd165ce",
      "metadata": {
        "colab": {
          "base_uri": "https://localhost:8080/"
        },
        "id": "0cd165ce",
        "outputId": "0f04c20a-f5ab-4cd5-d31b-5ac3d3dbc20e"
      },
      "outputs": [
        {
          "output_type": "stream",
          "name": "stdout",
          "text": [
            "new array:  [5 4 6 3 2 1]\n"
          ]
        }
      ],
      "source": [
        "import numpy as np\n",
        "arrayy = np.array([1, 2, 3, 6, 4, 5])\n",
        "reversed_arr = arrayy[::-1]\n",
        "print(\"new array: \",reversed_arr)"
      ]
    },
    {
      "cell_type": "markdown",
      "id": "20ced37e",
      "metadata": {
        "id": "20ced37e"
      },
      "source": [
        "### (b) Flatten the NumPy arr:\n",
        "array1 = np.array([[1, 2, 3], [2, 4, 5], [1, 2, 3]])\n",
        "\n",
        "using any two NumPy in-built methods"
      ]
    },
    {
      "cell_type": "code",
      "execution_count": 2,
      "id": "bfc38cb2",
      "metadata": {
        "colab": {
          "base_uri": "https://localhost:8080/"
        },
        "id": "bfc38cb2",
        "outputId": "83dd5245-8475-4d69-edf8-d5e0e96f4776"
      },
      "outputs": [
        {
          "output_type": "stream",
          "name": "stdout",
          "text": [
            "Flattened array:  [1 2 3 2 4 5 1 2 3]\n",
            "Raveled array:  [1 2 3 2 4 5 1 2 3]\n"
          ]
        }
      ],
      "source": [
        "array1 = np.array([[1, 2, 3], [2, 4, 5], [1, 2, 3]])\n",
        "flat_1= array1.flatten()\n",
        "print(\"Flattened array: \", flat_1)\n",
        "\n",
        "flat_2= array1.ravel()\n",
        "print(\"Raveled array: \", flat_2)"
      ]
    },
    {
      "cell_type": "markdown",
      "id": "6d6ad0ac",
      "metadata": {
        "id": "6d6ad0ac"
      },
      "source": [
        "### (c) Compare the following numpy arrays:\n",
        "arr1 = np.array([[1, 2], [3, 4]])\n",
        "\n",
        "arr2 = np.array([[1, 2], [3, 4]])"
      ]
    },
    {
      "cell_type": "code",
      "execution_count": 3,
      "id": "9533a8da",
      "metadata": {
        "colab": {
          "base_uri": "https://localhost:8080/"
        },
        "id": "9533a8da",
        "outputId": "d66e90d3-f518-4200-bac6-63e4e2fccbc1"
      },
      "outputs": [
        {
          "output_type": "stream",
          "name": "stdout",
          "text": [
            "arr1 and arr2 are equal:  True\n"
          ]
        }
      ],
      "source": [
        "arr1 = np.array([[1, 2], [3, 4]])\n",
        "arr2 = np.array([[1, 2], [3, 4]])\n",
        "\n",
        "equalcheck = np.array_equal(arr1, arr2)\n",
        "print(\"arr1 and arr2 are equal: \", equalcheck)"
      ]
    },
    {
      "cell_type": "markdown",
      "id": "4872babb",
      "metadata": {
        "id": "4872babb"
      },
      "source": [
        "### (d) Find the most frequent value and their indice(s) in the following arrays:\n",
        "(i) x = np.array([1,2,3,4,5,1,2,1,1,1])\n",
        "\n",
        "(ii) y = np.array([1, 1, 1, 2, 3, 4, 2, 4, 3, 3, ])"
      ]
    },
    {
      "cell_type": "code",
      "execution_count": 4,
      "id": "8c48b89b",
      "metadata": {
        "colab": {
          "base_uri": "https://localhost:8080/"
        },
        "id": "8c48b89b",
        "outputId": "85fbf7fe-0b0d-4b47-f713-f709e597f1bb"
      },
      "outputs": [
        {
          "output_type": "stream",
          "name": "stdout",
          "text": [
            "Most frequent element in x: 1 at indices: [0 5 7 8 9]\n",
            "Most frequent element in y: 1 at indices: [0 1 2]\n"
          ]
        }
      ],
      "source": [
        "import numpy as np\n",
        "\n",
        "x = np.array([1, 2, 3, 4, 5, 1, 2, 1, 1, 1])\n",
        "y = np.array([1, 1, 1, 2, 3, 4, 2, 4, 3, 3])\n",
        "\n",
        "ux, cx = np.unique(x, return_counts=True)\n",
        "uy, cy = np.unique(y, return_counts=True)\n",
        "\n",
        "freq_x = ux[np.argmax(cx)]\n",
        "ix = np.where(x == freq_x)[0]\n",
        "\n",
        "freq_y = uy[np.argmax(cy)]\n",
        "iy = np.where(y == freq_y)[0]\n",
        "\n",
        "print(\"Most frequent element in x:\", freq_x, \"at indices:\", ix)\n",
        "print(\"Most frequent element in y:\", freq_y, \"at indices:\", iy)\n"
      ]
    },
    {
      "cell_type": "markdown",
      "id": "11d60271",
      "metadata": {
        "id": "11d60271"
      },
      "source": [
        "### (e) For the array gfg = np.matrix('[4, 1, 9; 12, 3, 1; 4, 5, 6]'), find:\n",
        "i. Sum of all elements\n",
        "\n",
        "ii. Sum of all elements row-wise\n",
        "\n",
        "iii. Sum of all elements column-wise"
      ]
    },
    {
      "cell_type": "code",
      "execution_count": 5,
      "id": "2bce5db7",
      "metadata": {
        "colab": {
          "base_uri": "https://localhost:8080/"
        },
        "id": "2bce5db7",
        "outputId": "43e62e86-7a5e-4a67-daf8-7d06fa425f4d"
      },
      "outputs": [
        {
          "output_type": "stream",
          "name": "stdout",
          "text": [
            "Total sum of elements in the matrix: 45\n",
            "Sum of each row:\n",
            " [[14]\n",
            " [16]\n",
            " [15]]\n",
            "Sum of each column: [[20  9 16]]\n"
          ]
        }
      ],
      "source": [
        "import numpy as np\n",
        "\n",
        "gfg = np.matrix('[4, 1, 9; 12, 3, 1; 4, 5, 6]')\n",
        "\n",
        "s_total = np.sum(gfg)\n",
        "print(\"Total sum of elements in the matrix:\", s_total)\n",
        "\n",
        "s_rows = np.sum(gfg, axis=1)\n",
        "print(\"Sum of each row:\\n\", s_rows)\n",
        "\n",
        "s_cols = np.sum(gfg, axis=0)\n",
        "print(\"Sum of each column:\", s_cols)\n"
      ]
    },
    {
      "cell_type": "markdown",
      "id": "fb5dde11",
      "metadata": {
        "id": "fb5dde11"
      },
      "source": [
        "### (f) For the matrix: n_array = np.array([[55, 25, 15],[30, 44, 2],[11, 45, 77]]), find:\n",
        "i. Sum of diagonal elements\n",
        "\n",
        "ii. Eigen values of matrix\n",
        "\n",
        "iii. Eigen vectors of matrix\n",
        "\n",
        "iv. Inverse of matrix\n",
        "\n",
        "v. Determinant of matrix"
      ]
    },
    {
      "cell_type": "code",
      "execution_count": 6,
      "id": "8792a343",
      "metadata": {
        "colab": {
          "base_uri": "https://localhost:8080/"
        },
        "id": "8792a343",
        "outputId": "de5eb455-d2da-4ca5-8e34-2845c22d233a"
      },
      "outputs": [
        {
          "output_type": "stream",
          "name": "stdout",
          "text": [
            "Sum of diagonal elements: 176\n",
            "Eigenvalues: [98.16835147 28.097044   49.73460452]\n",
            "Eigenvectors:\n",
            " [[ 0.4574917   0.34637121 -0.15017693]\n",
            " [ 0.28447814 -0.72784061 -0.4852124 ]\n",
            " [ 0.84248058  0.59184038  0.8614034 ]]\n",
            "Inverse of the matrix:\n",
            " [[ 0.02404141 -0.00911212 -0.00444671]\n",
            " [-0.01667882  0.02966905  0.0024785 ]\n",
            " [ 0.00631287 -0.01603732  0.01217379]]\n",
            "Determinant of the matrix: 137180.0000000001\n"
          ]
        }
      ],
      "source": [
        "import numpy as np\n",
        "\n",
        "n_array = np.array([[55, 25, 15], [30, 44, 2], [11, 45, 77]])\n",
        "\n",
        "d_sum = np.trace(n_array)\n",
        "print(\"Sum of diagonal elements:\", d_sum)\n",
        "\n",
        "vals, vecs = np.linalg.eig(n_array)\n",
        "print(\"Eigenvalues:\", vals)\n",
        "print(\"Eigenvectors:\\n\", vecs)\n",
        "\n",
        "inv_mat = np.linalg.inv(n_array)\n",
        "print(\"Inverse of the matrix:\\n\", inv_mat)\n",
        "\n",
        "det = np.linalg.det(n_array)\n",
        "print(\"Determinant of the matrix:\", det)\n"
      ]
    },
    {
      "cell_type": "markdown",
      "id": "9389898c",
      "metadata": {
        "id": "9389898c"
      },
      "source": [
        "### (g) Multiply the following matrices and also find covariance between matrices using NumPy:\n",
        "i.  p = [[1, 2], [2, 3]] and q = [[4, 5], [6, 7]]\n",
        "    \n",
        "ii. p = [[1, 2], [2, 3], [4, 5]] and q = [[4, 5, 1], [6, 7, 2]]"
      ]
    },
    {
      "cell_type": "code",
      "execution_count": 7,
      "id": "2620df57",
      "metadata": {
        "colab": {
          "base_uri": "https://localhost:8080/"
        },
        "id": "2620df57",
        "outputId": "f098cabb-0080-4fc9-da26-a7bcf6c2ed01"
      },
      "outputs": [
        {
          "output_type": "stream",
          "name": "stdout",
          "text": [
            "Product of p1 and q1:\n",
            " [[16 19]\n",
            " [26 31]]\n",
            "Covariance between p1 and q1:\n",
            " [[0.66666667 1.        ]\n",
            " [1.         1.66666667]]\n",
            "Product of p2 and q2:\n",
            " [[16 19  5]\n",
            " [26 31  8]\n",
            " [46 55 14]]\n",
            "Covariance between p2 and q2:\n",
            " [[2.16666667 0.23333333]\n",
            " [0.23333333 5.36666667]]\n"
          ]
        }
      ],
      "source": [
        "import numpy as np\n",
        "\n",
        "p1 = np.array([[1, 2], [2, 3]])\n",
        "q1 = np.array([[4, 5], [6, 7]])\n",
        "\n",
        "product1 = np.dot(p1, q1)\n",
        "cov1 = np.cov(p1.flatten(), q1.flatten())\n",
        "\n",
        "print(\"Product of p1 and q1:\\n\", product1)\n",
        "print(\"Covariance between p1 and q1:\\n\", cov1)\n",
        "\n",
        "p2 = np.array([[1, 2], [2, 3], [4, 5]])\n",
        "q2 = np.array([[4, 5, 1], [6, 7, 2]])\n",
        "\n",
        "product2 = np.dot(p2, q2)\n",
        "cov2 = np.cov(p2.flatten(), q2.flatten())\n",
        "\n",
        "print(\"Product of p2 and q2:\\n\", product2)\n",
        "print(\"Covariance between p2 and q2:\\n\", cov2)\n"
      ]
    },
    {
      "cell_type": "markdown",
      "id": "db198637",
      "metadata": {
        "id": "db198637"
      },
      "source": [
        "### (h) For the matrices x and y, find inner, outer and cartesian product:\n",
        "x = np.array([[2, 3, 4], [3, 2, 9]])\n",
        "\n",
        "y = np.array([[1, 5, 0], [5, 10, 3]])"
      ]
    },
    {
      "cell_type": "code",
      "execution_count": 8,
      "id": "46d266f8",
      "metadata": {
        "colab": {
          "base_uri": "https://localhost:8080/"
        },
        "id": "46d266f8",
        "outputId": "58dc4e67-4f53-49ae-f8ef-2d97923fc109"
      },
      "outputs": [
        {
          "output_type": "stream",
          "name": "stdout",
          "text": [
            "Inner product:\n",
            " [[17 52]\n",
            " [13 62]]\n",
            "Outer product:\n",
            " [[ 2 10  0 10 20  6]\n",
            " [ 3 15  0 15 30  9]\n",
            " [ 4 20  0 20 40 12]\n",
            " [ 3 15  0 15 30  9]\n",
            " [ 2 10  0 10 20  6]\n",
            " [ 9 45  0 45 90 27]]\n",
            "Cartesian product:\n",
            " [[ 2  1]\n",
            " [ 2  5]\n",
            " [ 2  0]\n",
            " [ 2  5]\n",
            " [ 2 10]\n",
            " [ 2  3]\n",
            " [ 3  1]\n",
            " [ 3  5]\n",
            " [ 3  0]\n",
            " [ 3  5]\n",
            " [ 3 10]\n",
            " [ 3  3]\n",
            " [ 4  1]\n",
            " [ 4  5]\n",
            " [ 4  0]\n",
            " [ 4  5]\n",
            " [ 4 10]\n",
            " [ 4  3]\n",
            " [ 3  1]\n",
            " [ 3  5]\n",
            " [ 3  0]\n",
            " [ 3  5]\n",
            " [ 3 10]\n",
            " [ 3  3]\n",
            " [ 2  1]\n",
            " [ 2  5]\n",
            " [ 2  0]\n",
            " [ 2  5]\n",
            " [ 2 10]\n",
            " [ 2  3]\n",
            " [ 9  1]\n",
            " [ 9  5]\n",
            " [ 9  0]\n",
            " [ 9  5]\n",
            " [ 9 10]\n",
            " [ 9  3]]\n"
          ]
        }
      ],
      "source": [
        "x = np.array([[2, 3, 4], [3, 2, 9]])\n",
        "y = np.array([[1, 5, 0], [5, 10, 3]])\n",
        "\n",
        "inner = np.inner(x, y)\n",
        "outer = np.outer(x, y)\n",
        "cartesian_product = np.array(np.meshgrid(x, y)).T.reshape(-1, 2)\n",
        "\n",
        "print(\"Inner product:\\n\", inner)\n",
        "print(\"Outer product:\\n\", outer)\n",
        "print(\"Cartesian product:\\n\", cartesian_product)"
      ]
    },
    {
      "cell_type": "markdown",
      "id": "1193561e",
      "metadata": {
        "id": "1193561e"
      },
      "source": [
        "## Q2: Based on NumPy Mathematics and Statistics"
      ]
    },
    {
      "cell_type": "markdown",
      "id": "e7151c1e",
      "metadata": {
        "id": "e7151c1e"
      },
      "source": [
        "### (a) For the array: array = np.array([[1, -2, 3],[-4, 5, -6]])\n",
        "i. Find element-wise absolute value\n",
        "\n",
        "ii. Find the 25th, 50th, and 75th percentile of flattened array, for each column, for each row.\n",
        "\n",
        "iii. Mean, Median and Standard Deviation of flattened array, of each column, and each row"
      ]
    },
    {
      "cell_type": "code",
      "execution_count": 9,
      "id": "cc1fbd89",
      "metadata": {
        "colab": {
          "base_uri": "https://localhost:8080/"
        },
        "id": "cc1fbd89",
        "outputId": "ae418337-3d02-459e-f9d1-15d9bf6e5255"
      },
      "outputs": [
        {
          "output_type": "stream",
          "name": "stdout",
          "text": [
            "Absolute value of array:\n",
            " [[1 2 3]\n",
            " [4 5 6]]\n",
            "25th, 50th, 75th percentile (flattened): [-3.5 -0.5  2.5]\n",
            "25th, 50th, 75th percentile (columns):\n",
            " [[-2.75 -0.25 -3.75]\n",
            " [-1.5   1.5  -1.5 ]\n",
            " [-0.25  3.25  0.75]]\n",
            "25th, 50th, 75th percentile (rows):\n",
            " [[-0.5 -5. ]\n",
            " [ 1.  -4. ]\n",
            " [ 2.   0.5]]\n",
            "Mean (flattened): -0.5\n",
            "Median (flattened): -0.5\n",
            "Standard Deviation (flattened): 3.8622100754188224\n",
            "Mean (columns): [-1.5  1.5 -1.5]\n",
            "Median (columns): [-1.5  1.5 -1.5]\n",
            "Standard Deviation (columns): [2.5 3.5 4.5]\n",
            "Mean (rows): [ 0.66666667 -1.66666667]\n",
            "Median (rows): [ 1. -4.]\n",
            "Standard Deviation (rows): [2.05480467 4.78423336]\n"
          ]
        }
      ],
      "source": [
        "import numpy as np\n",
        "\n",
        "array = np.array([[1, -2, 3], [-4, 5, -6]])\n",
        "\n",
        "abs_array = np.abs(array)\n",
        "print(\"Absolute value of array:\\n\", abs_array)\n",
        "\n",
        "flat = array.flatten()\n",
        "\n",
        "percentiles_flat = np.percentile(flat, [25, 50, 75])\n",
        "percentiles_col = np.percentile(array, [25, 50, 75], axis=0)\n",
        "percentiles_row = np.percentile(array, [25, 50, 75], axis=1)\n",
        "\n",
        "print(\"25th, 50th, 75th percentile (flattened):\", percentiles_flat)\n",
        "print(\"25th, 50th, 75th percentile (columns):\\n\", percentiles_col)\n",
        "print(\"25th, 50th, 75th percentile (rows):\\n\", percentiles_row)\n",
        "\n",
        "mean_flat = np.mean(flat)\n",
        "median_flat = np.median(flat)\n",
        "std_flat = np.std(flat)\n",
        "\n",
        "mean_col = np.mean(array, axis=0)\n",
        "median_col = np.median(array, axis=0)\n",
        "std_col = np.std(array, axis=0)\n",
        "\n",
        "mean_row = np.mean(array, axis=1)\n",
        "median_row = np.median(array, axis=1)\n",
        "std_row = np.std(array, axis=1)\n",
        "\n",
        "print(\"Mean (flattened):\", mean_flat)\n",
        "print(\"Median (flattened):\", median_flat)\n",
        "print(\"Standard Deviation (flattened):\", std_flat)\n",
        "\n",
        "print(\"Mean (columns):\", mean_col)\n",
        "print(\"Median (columns):\", median_col)\n",
        "print(\"Standard Deviation (columns):\", std_col)\n",
        "\n",
        "print(\"Mean (rows):\", mean_row)\n",
        "print(\"Median (rows):\", median_row)\n",
        "print(\"Standard Deviation (rows):\", std_row)\n"
      ]
    },
    {
      "cell_type": "markdown",
      "id": "7c7aa19e",
      "metadata": {
        "id": "7c7aa19e"
      },
      "source": [
        "### (b) For the array: a = np.array([-1.8, -1.6, -0.5, 0.5,1.6, 1.8, 3.0])\n",
        "Find floor, ceiling and truncated value, rounded values"
      ]
    },
    {
      "cell_type": "code",
      "execution_count": 10,
      "id": "62b1c073",
      "metadata": {
        "colab": {
          "base_uri": "https://localhost:8080/"
        },
        "id": "62b1c073",
        "outputId": "b4df9466-dca8-4f0d-a5f5-3157f2f6110d"
      },
      "outputs": [
        {
          "output_type": "stream",
          "name": "stdout",
          "text": [
            "Floor values: [-2. -2. -1.  0.  1.  1.  3.]\n",
            "Ceil values: [-1. -1. -0.  1.  2.  2.  3.]\n",
            "Truncated values: [-1. -1. -0.  0.  1.  1.  3.]\n",
            "Rounded values: [-2. -2. -0.  0.  2.  2.  3.]\n"
          ]
        }
      ],
      "source": [
        "a = np.array([-1.8, -1.6, -0.5, 0.5,1.6, 1.8, 3.0])\n",
        "\n",
        "floor_values = np.floor(a)\n",
        "print(\"Floor values:\", floor_values)\n",
        "\n",
        "ceil_values = np.ceil(a)\n",
        "print(\"Ceil values:\", ceil_values)\n",
        "\n",
        "truncated_values = np.trunc(a)\n",
        "print(\"Truncated values:\", truncated_values)\n",
        "\n",
        "rounded_values = np.round(a)\n",
        "print(\"Rounded values:\", rounded_values)"
      ]
    },
    {
      "cell_type": "markdown",
      "id": "bf5a0a4d",
      "metadata": {
        "id": "bf5a0a4d"
      },
      "source": [
        "## Q3: Based on Searching and Sorting"
      ]
    },
    {
      "cell_type": "markdown",
      "id": "edf7c36a",
      "metadata": {
        "id": "edf7c36a"
      },
      "source": [
        "### (a) For the array: array = np.array([10, 52, 62, 16, 16, 54, 453]), find\n",
        "i. Sorted array\n",
        "\n",
        "ii. Indices of sorted array\n",
        "\n",
        "iii. 4 smallest elements\n",
        "\n",
        "iv. 5 largest elements"
      ]
    },
    {
      "cell_type": "code",
      "execution_count": 11,
      "id": "74080e0b",
      "metadata": {
        "colab": {
          "base_uri": "https://localhost:8080/"
        },
        "id": "74080e0b",
        "outputId": "73c183dd-95a2-44e9-d5a0-34b1d917ab88"
      },
      "outputs": [
        {
          "output_type": "stream",
          "name": "stdout",
          "text": [
            "Sorted array: [ 10  16  16  52  54  62 453]\n",
            "Indices of sorted array: [0 3 4 1 5 2 6]\n",
            "Smallest 4 elements: [10 16 16 52]\n",
            "Largest 5 elements: [ 16  52  54  62 453]\n"
          ]
        }
      ],
      "source": [
        "import numpy as np\n",
        "\n",
        "arr = np.array([10, 52, 62, 16, 16, 54, 453])\n",
        "\n",
        "arr_sorted = np.sort(arr)\n",
        "print(\"Sorted array:\", arr_sorted)\n",
        "\n",
        "sorted_idx = np.argsort(arr)\n",
        "print(\"Indices of sorted array:\", sorted_idx)\n",
        "\n",
        "top_4_small = np.partition(arr, 3)[:4]\n",
        "print(\"Smallest 4 elements:\", top_4_small)\n",
        "\n",
        "top_5_large = np.partition(arr, -5)[-5:]\n",
        "print(\"Largest 5 elements:\", top_5_large)\n"
      ]
    },
    {
      "cell_type": "markdown",
      "id": "8c6e30b3",
      "metadata": {
        "id": "8c6e30b3"
      },
      "source": [
        "### (b) For the array: array = np.array([1.0, 1.2, 2.2, 2.0, 3.0, 2.0]), find\n",
        "i. Integer elements only\n",
        "\n",
        "ii. Float elements only"
      ]
    },
    {
      "cell_type": "code",
      "execution_count": 12,
      "id": "703168c6",
      "metadata": {
        "colab": {
          "base_uri": "https://localhost:8080/"
        },
        "id": "703168c6",
        "outputId": "697999bb-251c-4084-bb6c-fcc14b48d551"
      },
      "outputs": [
        {
          "output_type": "stream",
          "name": "stdout",
          "text": [
            "Integer elements in the array: [1. 2. 3. 2.]\n",
            "Float elements in the array: [1.2 2.2]\n"
          ]
        }
      ],
      "source": [
        "import numpy as np\n",
        "\n",
        "arr = np.array([1.0, 1.2, 2.2, 2.0, 3.0, 2.0])\n",
        "\n",
        "ints = arr[arr == arr.astype(int)]\n",
        "print(\"Integer elements in the array:\", ints)\n",
        "\n",
        "floats = arr[arr != arr.astype(int)]\n",
        "print(\"Float elements in the array:\", floats)\n"
      ]
    },
    {
      "cell_type": "markdown",
      "id": "0424f8a6",
      "metadata": {
        "id": "0424f8a6"
      },
      "source": [
        "## Q4:"
      ]
    },
    {
      "cell_type": "markdown",
      "id": "19401490",
      "metadata": {
        "id": "19401490"
      },
      "source": [
        "(a) Write a function named img_to_array(path) that reads an image from a specified path and save it as text file on local machine? (Note: use separate cases for RGB and Grey Scale images)"
      ]
    },
    {
      "cell_type": "code",
      "execution_count": 18,
      "id": "bdffeb0d",
      "metadata": {
        "id": "bdffeb0d"
      },
      "outputs": [],
      "source": [
        "from PIL import Image\n",
        "import numpy as np\n",
        "import os\n",
        "\n",
        "def img_to_array(path):\n",
        "    img = Image.open(path)\n",
        "    arr = np.array(img)\n",
        "    if arr.ndim == 2:\n",
        "        np.savetxt(\"grayscale_output.txt\", arr, fmt='%d')\n",
        "    else:\n",
        "        reshaped = arr.reshape(-1, arr.shape[-1])\n",
        "        np.savetxt(\"rgb_output.txt\", reshaped, fmt='%d')\n",
        "    return arr\n",
        "\n",
        "\n"
      ]
    },
    {
      "cell_type": "markdown",
      "id": "6df81782",
      "metadata": {
        "id": "6df81782"
      },
      "source": [
        "(b) Load the saved file into jupyter notebook."
      ]
    },
    {
      "cell_type": "code",
      "source": [
        "arr = img_to_array(\"/content/imageapple.webp\")\n",
        "\n",
        "if os.path.exists(\"grayscale_output.txt\"):\n",
        "    gray_data = np.loadtxt(\"grayscale_output.txt\", dtype=int)\n",
        "    print(gray_data)\n",
        "\n",
        "if os.path.exists(\"rgb_output.txt\"):\n",
        "    rgb_data = np.loadtxt(\"rgb_output.txt\", dtype=int)\n",
        "    print(rgb_data)"
      ],
      "metadata": {
        "colab": {
          "base_uri": "https://localhost:8080/"
        },
        "id": "_uv_WpC5JzOg",
        "outputId": "6c424314-e62f-426c-e2be-b45be1d993a4"
      },
      "id": "_uv_WpC5JzOg",
      "execution_count": 19,
      "outputs": [
        {
          "output_type": "stream",
          "name": "stdout",
          "text": [
            "[[197 197 197]\n",
            " [197 197 197]\n",
            " [197 197 197]\n",
            " ...\n",
            " [199 166 143]\n",
            " [196 163 138]\n",
            " [187 155 130]]\n"
          ]
        }
      ]
    }
  ],
  "metadata": {
    "kernelspec": {
      "display_name": "Python 3",
      "language": "python",
      "name": "python3"
    },
    "language_info": {
      "codemirror_mode": {
        "name": "ipython",
        "version": 3
      },
      "file_extension": ".py",
      "mimetype": "text/x-python",
      "name": "python",
      "nbconvert_exporter": "python",
      "pygments_lexer": "ipython3",
      "version": "3.13.1"
    },
    "colab": {
      "provenance": []
    }
  },
  "nbformat": 4,
  "nbformat_minor": 5
}